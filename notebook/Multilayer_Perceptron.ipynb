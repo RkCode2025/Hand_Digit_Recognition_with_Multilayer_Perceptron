{
 "cells": [
  {
   "cell_type": "markdown",
   "id": "e25b0ed9",
   "metadata": {},
   "source": [
    "# **Handwritten Digit Recognition with MLP**\n",
    "\n",
    "**About This Project:**\n",
    "\n",
    "This project is a complete implementation of a **Multilayer Perceptron (MLP)** built entirely **from scratch**, without using high-level machine learning libraries such as TensorFlow or PyTorch.  \n",
    "\n",
    "The purpose of this project is to create a neural network capable of **recognizing handwritten digits** (0–9) and to gain a **deep practical understanding of how MLPs work**, including forward propagation, activation functions, backpropagation, and gradient descent.  "
   ]
  },
  {
   "cell_type": "code",
   "execution_count": 38,
   "id": "03e3ba58",
   "metadata": {},
   "outputs": [],
   "source": [
    "import numpy as np\n",
    "from sklearn.datasets import fetch_openml\n",
    "import matplotlib.pyplot as plt\n",
    "from sklearn.model_selection import train_test_split\n",
    "from sklearn.metrics import accuracy_score, mean_squared_error"
   ]
  },
  {
   "cell_type": "code",
   "execution_count": 39,
   "id": "f38c5ca9",
   "metadata": {},
   "outputs": [],
   "source": [
    "X, y = fetch_openml('mnist_784', version=1, return_X_y=True)\n",
    "X = X.values\n",
    "y = y.astype(int).values"
   ]
  },
  {
   "cell_type": "code",
   "execution_count": 40,
   "id": "8d73852e",
   "metadata": {},
   "outputs": [
    {
     "name": "stdout",
     "output_type": "stream",
     "text": [
      "(70000, 784)\n"
     ]
    }
   ],
   "source": [
    "print(X.shape)"
   ]
  },
  {
   "cell_type": "code",
   "execution_count": 41,
   "id": "660c212d",
   "metadata": {},
   "outputs": [],
   "source": [
    "X = ((X / 255.) - .5) * 2"
   ]
  },
  {
   "cell_type": "code",
   "execution_count": 42,
   "id": "0902ccdb",
   "metadata": {},
   "outputs": [
    {
     "data": {
      "image/png": "[encoded data removed]",
      "text/plain": [
       "<Figure size 640x480 with 10 Axes>"
      ]
     },
     "metadata": {},
     "output_type": "display_data"
    }
   ],
   "source": [
    "fig, ax = plt.subplots(nrows=2, ncols=5,\n",
    "\n",
    "                        sharex=True, sharey=True)\n",
    "ax = ax.flatten()\n",
    "for i in range(10):\n",
    "\n",
    "     img = X[y == i][0].reshape(28, 28)\n",
    "\n",
    "     ax[i].imshow(img, cmap='Greys')\n",
    "ax[0].set_xticks([])\n",
    "ax[0].set_yticks([])\n",
    "plt.tight_layout()\n",
    "plt.show()"
   ]
  },
  {
   "cell_type": "code",
   "execution_count": 43,
   "id": "f9b92e7b",
   "metadata": {},
   "outputs": [
    {
     "name": "stdout",
     "output_type": "stream",
     "text": [
      "(70000,)\n"
     ]
    }
   ],
   "source": [
    "print(y.shape)"
   ]
  },
  {
   "cell_type": "code",
   "execution_count": 44,
   "id": "d36df2ef",
   "metadata": {},
   "outputs": [],
   "source": [
    "X_temp, X_test, y_temp, y_test = train_test_split(X, y, test_size=10000, random_state=42, stratify=y)\n",
    "X_train, X_valid, y_train, y_valid = train_test_split(X_temp, y_temp, test_size=5000,random_state=123, stratify=y_temp )"
   ]
  },
  {
   "cell_type": "code",
   "execution_count": 60,
   "id": "05c7b80e",
   "metadata": {},
   "outputs": [],
   "source": [
    "def sigmoid(x):\n",
    "    return 1. / (1. + np.exp(-x))\n",
    "\n",
    "\n",
    "def int_to_onehot(y, num_labels):\n",
    "    ary = np.zeros((y.shape[0], num_labels), dtype=float)\n",
    "    for i, val in enumerate(y):\n",
    "        ary[i, val] = 1.0\n",
    "    return ary"
   ]
  },
  {
   "cell_type": "markdown",
   "id": "70bf7f38",
   "metadata": {},
   "source": [
    "# **MLP MODEL**"
   ]
  },
  {
   "cell_type": "code",
   "execution_count": 73,
   "id": "f5e80da8",
   "metadata": {},
   "outputs": [],
   "source": [
    "class Multilayer_Perceptron:\n",
    "    def __init__(self, num_features, num_hidden, num_classes, random_state=42):\n",
    "\n",
    "        super().__init__()\n",
    "\n",
    "        self.num_classes = num_classes\n",
    "\n",
    "        rng = np.random.RandomState(random_state) # Create a random number generator with a fixed seed for reproducibility\n",
    "\n",
    "        # Initialize hidden layer weights\n",
    "        self.weight_h = rng.normal(\n",
    "            loc=0.0, scale=0.1, size=(num_hidden, num_features))\n",
    "        # Initialized from a normal distribution (mean=0.0, std=0.1)\n",
    "        \n",
    "        self.bias_h = np.zeros(num_hidden)\n",
    "        # Bias vector for hidden layer neurons, initialized to 0\n",
    "\n",
    "        # Initialize output layer weights\n",
    "\n",
    "        self.weight_out = rng.normal(\n",
    "            loc=0.0, scale=0.1, size=(num_classes, num_hidden))\n",
    "        # weight_out shape: (num_classes, num_hidden)\n",
    "        # Each output neuron has a weight for each hidden neuron\n",
    "        \n",
    "        self.bias_out = np.zeros(num_classes)\n",
    "        # Bias vector for output layer neurons, initialized to 0\n",
    "        # Shape: (num_classes,)\n",
    "\n",
    "    def forward(self, x):\n",
    "\n",
    "        # Hidden layer\n",
    "\n",
    "        y_hat = np.dot(x, self.weight_h.T) + self.bias_h\n",
    "        a_h = sigmoid(y_hat)\n",
    "\n",
    "         # Output layer\n",
    "\n",
    "        y_out = np.dot(a_h, self.weight_out.T) + self.bias_out\n",
    "        a_out = sigmoid(y_out)\n",
    "\n",
    "        return a_h, a_out\n",
    "    \n",
    "    def backward(self, x, a_h, a_out,y):\n",
    "\n",
    "        #########################\n",
    "        ### Output layer weights\n",
    "        #########################\n",
    "\n",
    "        y_onehot = int_to_onehot(y, num_labels=self.num_classes)\n",
    "\n",
    "        #Part 1: dLoss/dOutWeights\n",
    "\n",
    "        # input/output dim: [n_examples, n_classes]\n",
    "        d_loss_d_a_out = 2. *(a_out - y_onehot) / y.shape[0]\n",
    "\n",
    "        d_a_out_d_z_out = a_out * (1. - a_out)\n",
    "\n",
    "        delta_out = d_loss_d_a_out*d_a_out_d_z_out\n",
    "\n",
    "        d_z_out__dw_out = a_h\n",
    "\n",
    "        d_loss__dw_out = np.dot(delta_out.T, d_z_out__dw_out)\n",
    "\n",
    "        d_loss__db_out = np.sum(delta_out, axis=0)\n",
    "\n",
    "        # Part 2: dLoss/dHiddenWeights\n",
    "\n",
    "        # [n_classes, n_hidden]\n",
    "\n",
    "        d_z_out__a_h = self.weight_out\n",
    "\n",
    "        d_loss__a_h = np.dot(delta_out, d_z_out__a_h)\n",
    "\n",
    "        d_a_h__d_z_h = a_h * (1 - a_h)\n",
    "\n",
    "        d_z_h__d_w_h = x\n",
    "\n",
    "        d_loss__d_w_h = np.dot((d_loss__a_h * d_a_h__d_z_h).T, d_z_h__d_w_h)\n",
    "\n",
    "        d_loss__d_b_h = np.sum((d_loss__a_h * d_a_h__d_z_h), axis=0)\n",
    "\n",
    "        return (d_loss__dw_out, d_loss__db_out,\n",
    "        d_loss__d_w_h, d_loss__d_b_h)"
   ]
  },
  {
   "cell_type": "code",
   "execution_count": 74,
   "id": "ac9e4463",
   "metadata": {},
   "outputs": [],
   "source": [
    "model = Multilayer_Perceptron(num_features=28*28,\n",
    "                              num_hidden=50,\n",
    "                              num_classes=10)"
   ]
  },
  {
   "cell_type": "code",
   "execution_count": 75,
   "id": "eb910dce",
   "metadata": {},
   "outputs": [],
   "source": [
    "num_epochs = 50\n",
    "minibatch_sizes = 100\n",
    "\n",
    "def minibatch_gen(X, y, minibatch_size):\n",
    "\n",
    "    indices = np.arange(X.shape[0])\n",
    "\n",
    "    np.random.shuffle(indices)\n",
    "    \n",
    "    for start_idx in range(0, indices.shape[0] - minibatch_size + 1, minibatch_size):\n",
    "        batch_idx = indices[start_idx:start_idx + minibatch_size]\n",
    "\n",
    "        yield X[batch_idx], y[batch_idx]"
   ]
  },
  {
   "cell_type": "code",
   "execution_count": 76,
   "id": "26b7307d",
   "metadata": {},
   "outputs": [
    {
     "name": "stdout",
     "output_type": "stream",
     "text": [
      "(100, 784)\n",
      "(100,)\n"
     ]
    }
   ],
   "source": [
    "for i in range(num_epochs):\n",
    "\n",
    "    batch_gen = minibatch_gen(X, y, minibatch_sizes)\n",
    "    for X_train_mini, y_train_mini in batch_gen:\n",
    "        break\n",
    "    break\n",
    "\n",
    "\n",
    "print(X_train_mini.shape)\n",
    "print(y_train_mini.shape)"
   ]
  },
  {
   "cell_type": "code",
   "execution_count": 77,
   "id": "3119096b",
   "metadata": {},
   "outputs": [],
   "source": [
    "def mse_loss(targets, probas, num_labels=10):\n",
    "    onehot_targets = int_to_onehot(targets, num_labels=num_labels)\n",
    "    return np.mean((onehot_targets - probas)**2)"
   ]
  },
  {
   "cell_type": "code",
   "execution_count": 78,
   "id": "fb938e3d",
   "metadata": {},
   "outputs": [],
   "source": [
    "def accuracy1(targets, predicted_labels):\n",
    "    return np.mean(predicted_labels == targets)"
   ]
  },
  {
   "cell_type": "code",
   "execution_count": 79,
   "id": "b45a830e",
   "metadata": {},
   "outputs": [],
   "source": [
    "_, probas = model.forward(X_valid)"
   ]
  },
  {
   "cell_type": "code",
   "execution_count": 80,
   "id": "33b5e4d6",
   "metadata": {},
   "outputs": [
    {
     "name": "stdout",
     "output_type": "stream",
     "text": [
      "Initial validation MSE: 0.3\n"
     ]
    }
   ],
   "source": [
    "mse = mse_loss(y_valid, probas)\n",
    "print(f'Initial validation MSE: {mse:.1f}')"
   ]
  },
  {
   "cell_type": "code",
   "execution_count": 81,
   "id": "fed8a21a",
   "metadata": {},
   "outputs": [
    {
     "name": "stdout",
     "output_type": "stream",
     "text": [
      "Initial validation accuracy: 9.8%\n"
     ]
    }
   ],
   "source": [
    "predicted_labels = np.argmax(probas, axis=1)\n",
    "acc = accuracy1(y_valid, predicted_labels)\n",
    "print(f'Initial validation accuracy: {acc*100:.1f}%')"
   ]
  },
  {
   "cell_type": "markdown",
   "id": "848a1fa0",
   "metadata": {},
   "source": [
    "# **THE TRAINING LOOP**"
   ]
  },
  {
   "cell_type": "code",
   "execution_count": 82,
   "id": "0e677b92",
   "metadata": {},
   "outputs": [],
   "source": [
    "def train(model, X_train, y_train, X_valid, y_valid,\n",
    "          num_epochs=50, minibatch_size=100, learning_rate=0.1,\n",
    "          verbose=True):\n",
    "     train_mse_history = []\n",
    "     train_acc_history = []\n",
    "     valid_acc_history = []\n",
    "\n",
    "     for epoch in range(num_epochs):\n",
    "        # Minibatch loop\n",
    "        for X_batch, y_batch in minibatch_gen(X_train, y_train, minibatch_size):\n",
    "            # Forward pass\n",
    "            a_h, probas = model.forward(X_batch)\n",
    "\n",
    "            # Backward pass\n",
    "            d_w_out, d_b_out, d_w_h, d_b_h = model.backward(X_batch, a_h, probas, y_batch)\n",
    "\n",
    "            # Update weights\n",
    "            model.weight_h   -= learning_rate * d_w_h\n",
    "            model.bias_h     -= learning_rate * d_b_h\n",
    "            model.weight_out -= learning_rate * d_w_out\n",
    "            model.bias_out   -= learning_rate * d_b_out\n",
    "\n",
    "        # ---- Metrics evaluation at end of epoch ----\n",
    "        # Training metrics\n",
    "        _, train_probas = model.forward(X_train)\n",
    "        y_train_pred = np.argmax(train_probas, axis=1)\n",
    "        train_acc = accuracy_score(y_train, y_train_pred)\n",
    "        train_mse = mean_squared_error(int_to_onehot(y_train, num_labels=model.num_classes),\n",
    "                                       train_probas)\n",
    "\n",
    "        # Validation metrics\n",
    "        _, val_probas = model.forward(X_valid)\n",
    "        y_val_pred = np.argmax(val_probas, axis=1)\n",
    "        val_acc = accuracy_score(y_valid, y_val_pred)\n",
    "\n",
    "        # Store metrics\n",
    "        train_mse_history.append(train_mse)\n",
    "        train_acc_history.append(train_acc*100)\n",
    "        valid_acc_history.append(val_acc*100)\n",
    "\n",
    "        # Print epoch summary\n",
    "        if verbose:\n",
    "            print(f\"Epoch {epoch+1}/{num_epochs} | \"\n",
    "                  f\"Train MSE: {train_mse:.4f} | \"\n",
    "                  f\"Train Acc: {train_acc*100:.2f}% | \"\n",
    "                  f\"Valid Acc: {val_acc*100:.2f}%\")\n",
    "     return train_mse_history, train_acc_history, valid_acc_history"
   ]
  },
  {
   "cell_type": "code",
   "execution_count": 83,
   "id": "c1809756",
   "metadata": {},
   "outputs": [
    {
     "name": "stdout",
     "output_type": "stream",
     "text": [
      "Epoch 1/50 | Train MSE: 0.0531 | Train Acc: 71.63% | Valid Acc: 71.44%\n",
      "Epoch 2/50 | Train MSE: 0.0328 | Train Acc: 85.51% | Valid Acc: 84.94%\n",
      "Epoch 3/50 | Train MSE: 0.0248 | Train Acc: 88.35% | Valid Acc: 87.72%\n",
      "Epoch 4/50 | Train MSE: 0.0210 | Train Acc: 89.43% | Valid Acc: 89.24%\n",
      "Epoch 5/50 | Train MSE: 0.0188 | Train Acc: 90.21% | Valid Acc: 89.84%\n",
      "Epoch 6/50 | Train MSE: 0.0174 | Train Acc: 90.71% | Valid Acc: 90.30%\n",
      "Epoch 7/50 | Train MSE: 0.0164 | Train Acc: 91.04% | Valid Acc: 90.50%\n",
      "Epoch 8/50 | Train MSE: 0.0155 | Train Acc: 91.27% | Valid Acc: 90.84%\n",
      "Epoch 9/50 | Train MSE: 0.0150 | Train Acc: 91.51% | Valid Acc: 91.30%\n",
      "Epoch 10/50 | Train MSE: 0.0143 | Train Acc: 91.94% | Valid Acc: 91.52%\n",
      "Epoch 11/50 | Train MSE: 0.0139 | Train Acc: 92.05% | Valid Acc: 91.72%\n",
      "Epoch 12/50 | Train MSE: 0.0135 | Train Acc: 92.29% | Valid Acc: 91.94%\n",
      "Epoch 13/50 | Train MSE: 0.0131 | Train Acc: 92.47% | Valid Acc: 92.14%\n",
      "Epoch 14/50 | Train MSE: 0.0128 | Train Acc: 92.69% | Valid Acc: 92.38%\n",
      "Epoch 15/50 | Train MSE: 0.0125 | Train Acc: 92.84% | Valid Acc: 92.68%\n",
      "Epoch 16/50 | Train MSE: 0.0123 | Train Acc: 92.89% | Valid Acc: 92.60%\n",
      "Epoch 17/50 | Train MSE: 0.0120 | Train Acc: 93.05% | Valid Acc: 92.56%\n",
      "Epoch 18/50 | Train MSE: 0.0118 | Train Acc: 93.27% | Valid Acc: 92.70%\n",
      "Epoch 19/50 | Train MSE: 0.0116 | Train Acc: 93.30% | Valid Acc: 92.78%\n",
      "Epoch 20/50 | Train MSE: 0.0114 | Train Acc: 93.32% | Valid Acc: 93.08%\n",
      "Epoch 21/50 | Train MSE: 0.0113 | Train Acc: 93.47% | Valid Acc: 93.06%\n",
      "Epoch 22/50 | Train MSE: 0.0110 | Train Acc: 93.66% | Valid Acc: 93.06%\n",
      "Epoch 23/50 | Train MSE: 0.0108 | Train Acc: 93.73% | Valid Acc: 93.24%\n",
      "Epoch 24/50 | Train MSE: 0.0107 | Train Acc: 93.86% | Valid Acc: 93.38%\n",
      "Epoch 25/50 | Train MSE: 0.0106 | Train Acc: 93.87% | Valid Acc: 93.34%\n",
      "Epoch 26/50 | Train MSE: 0.0104 | Train Acc: 94.03% | Valid Acc: 93.50%\n",
      "Epoch 27/50 | Train MSE: 0.0103 | Train Acc: 94.10% | Valid Acc: 93.34%\n",
      "Epoch 28/50 | Train MSE: 0.0101 | Train Acc: 94.21% | Valid Acc: 93.50%\n",
      "Epoch 29/50 | Train MSE: 0.0100 | Train Acc: 94.24% | Valid Acc: 93.54%\n",
      "Epoch 30/50 | Train MSE: 0.0099 | Train Acc: 94.26% | Valid Acc: 93.68%\n",
      "Epoch 31/50 | Train MSE: 0.0098 | Train Acc: 94.35% | Valid Acc: 93.66%\n",
      "Epoch 32/50 | Train MSE: 0.0097 | Train Acc: 94.39% | Valid Acc: 93.70%\n",
      "Epoch 33/50 | Train MSE: 0.0096 | Train Acc: 94.50% | Valid Acc: 93.68%\n",
      "Epoch 34/50 | Train MSE: 0.0094 | Train Acc: 94.61% | Valid Acc: 93.74%\n",
      "Epoch 35/50 | Train MSE: 0.0093 | Train Acc: 94.60% | Valid Acc: 93.74%\n",
      "Epoch 36/50 | Train MSE: 0.0092 | Train Acc: 94.72% | Valid Acc: 93.78%\n",
      "Epoch 37/50 | Train MSE: 0.0092 | Train Acc: 94.76% | Valid Acc: 93.92%\n",
      "Epoch 38/50 | Train MSE: 0.0090 | Train Acc: 94.84% | Valid Acc: 93.90%\n",
      "Epoch 39/50 | Train MSE: 0.0090 | Train Acc: 94.86% | Valid Acc: 93.88%\n",
      "Epoch 40/50 | Train MSE: 0.0089 | Train Acc: 94.90% | Valid Acc: 94.00%\n",
      "Epoch 41/50 | Train MSE: 0.0088 | Train Acc: 94.93% | Valid Acc: 93.94%\n",
      "Epoch 42/50 | Train MSE: 0.0087 | Train Acc: 95.06% | Valid Acc: 94.10%\n",
      "Epoch 43/50 | Train MSE: 0.0086 | Train Acc: 95.07% | Valid Acc: 94.04%\n",
      "Epoch 44/50 | Train MSE: 0.0085 | Train Acc: 95.13% | Valid Acc: 94.08%\n",
      "Epoch 45/50 | Train MSE: 0.0085 | Train Acc: 95.20% | Valid Acc: 94.12%\n",
      "Epoch 46/50 | Train MSE: 0.0084 | Train Acc: 95.21% | Valid Acc: 94.10%\n",
      "Epoch 47/50 | Train MSE: 0.0083 | Train Acc: 95.30% | Valid Acc: 93.98%\n",
      "Epoch 48/50 | Train MSE: 0.0083 | Train Acc: 95.29% | Valid Acc: 94.18%\n",
      "Epoch 49/50 | Train MSE: 0.0082 | Train Acc: 95.35% | Valid Acc: 94.46%\n",
      "Epoch 50/50 | Train MSE: 0.0081 | Train Acc: 95.39% | Valid Acc: 94.32%\n"
     ]
    }
   ],
   "source": [
    "np.random.seed(123)\n",
    "epoch_loss, epoch_train_acc, epoch_valid_acc = train(\n",
    "    model, X_train, y_train, X_valid, y_valid,\n",
    "    num_epochs=50, learning_rate=0.1)"
   ]
  },
  {
   "cell_type": "markdown",
   "id": "bdeb3841",
   "metadata": {},
   "source": [
    "**Evaluating Our Predictions**"
   ]
  },
  {
   "cell_type": "code",
   "execution_count": 85,
   "id": "e05d170e",
   "metadata": {},
   "outputs": [
    {
     "data": {
      "image/png": "[encoded data removed]",
      "text/plain": [
       "<Figure size 640x480 with 1 Axes>"
      ]
     },
     "metadata": {},
     "output_type": "display_data"
    }
   ],
   "source": [
    "import matplotlib.pyplot as plt\n",
    "\n",
    "plt.plot(range(len(epoch_loss)), epoch_loss)\n",
    "plt.ylabel('Mean squared error')\n",
    "plt.xlabel('Epoch')\n",
    "plt.show()"
   ]
  },
  {
   "cell_type": "code",
   "execution_count": 86,
   "id": "079f3961",
   "metadata": {},
   "outputs": [
    {
     "data": {
      "image/png": "[encoded data removed]",
      "text/plain": [
       "<Figure size 640x480 with 1 Axes>"
      ]
     },
     "metadata": {},
     "output_type": "display_data"
    }
   ],
   "source": [
    "plt.plot(range(len(epoch_train_acc)), epoch_train_acc,\n",
    "\n",
    "          label='Training')\n",
    "plt.plot(range(len(epoch_valid_acc)), epoch_valid_acc,\n",
    "\n",
    "          label='Validation')\n",
    "plt.ylabel('Accuracy')\n",
    "plt.xlabel('Epochs')\n",
    "plt.legend(loc='lower right')\n",
    "plt.show()\n"
   ]
  },
  {
   "cell_type": "markdown",
   "id": "b83e4bd3",
   "metadata": {},
   "source": [
    "# **TEST SET EVALUATION**"
   ]
  },
  {
   "cell_type": "code",
   "execution_count": 87,
   "id": "0cf0725d",
   "metadata": {},
   "outputs": [
    {
     "name": "stdout",
     "output_type": "stream",
     "text": [
      "Test MSE: 0.0092\n",
      "Test Accuracy: 94.57%\n"
     ]
    }
   ],
   "source": [
    "_, probas = model.forward(X_test)\n",
    "\n",
    "# Predictions\n",
    "y_pred = np.argmax(probas, axis=1)\n",
    "\n",
    "# Accuracy\n",
    "acc = accuracy_score(y_test, y_pred)\n",
    "\n",
    "# MSE (compare raw probabilities to one-hot labels)\n",
    "y_onehot = np.zeros((y_test.shape[0], model.num_classes))\n",
    "y_onehot[np.arange(y_test.shape[0]), y_test] = 1\n",
    "\n",
    "mse_val = mean_squared_error(y_onehot, probas)\n",
    "\n",
    "# Print results\n",
    "print(f\"Test MSE: {mse_val:.4f}\")\n",
    "print(f\"Test Accuracy: {acc*100:.2f}%\")"
   ]
  }
 ],
 "metadata": {
  "kernelspec": {
   "display_name": "Python 3",
   "language": "python",
   "name": "python3"
  },
  "language_info": {
   "codemirror_mode": {
    "name": "ipython",
    "version": 3
   },
   "file_extension": ".py",
   "mimetype": "text/x-python",
   "name": "python",
   "nbconvert_exporter": "python",
   "pygments_lexer": "ipython3",
   "version": "3.10.9"
  }
 },
 "nbformat": 4,
 "nbformat_minor": 5
}
