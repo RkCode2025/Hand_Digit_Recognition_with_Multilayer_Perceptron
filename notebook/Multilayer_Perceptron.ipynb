{
 "cells": [
  {
   "cell_type": "markdown",
   "id": "e25b0ed9",
   "metadata": {},
   "source": [
    "# **Handwritten Digit Recognition with MLP**\n",
    "\n",
    "**About This Project:**\n",
    "\n",
    "This project is a complete implementation of a **Multilayer Perceptron (MLP)** built entirely **from scratch**, without using high-level machine learning libraries such as TensorFlow or PyTorch.  \n",
    "\n",
    "The purpose of this project is to create a neural network capable of **recognizing handwritten digits** (0–9) and to gain a **deep practical understanding of how MLPs work**, including forward propagation, activation functions, backpropagation, and gradient descent.  "
   ]
  },
  {
   "cell_type": "code",
   "execution_count": 38,
   "id": "03e3ba58",
   "metadata": {},
   "outputs": [],
   "source": [
    "import numpy as np\n",
    "from sklearn.datasets import fetch_openml\n",
    "import matplotlib.pyplot as plt\n",
    "from sklearn.model_selection import train_test_split\n",
    "from sklearn.metrics import accuracy_score, mean_squared_error"
   ]
  },
  {
   "cell_type": "code",
   "execution_count": 39,
   "id": "f38c5ca9",
   "metadata": {},
   "outputs": [],
   "source": [
    "X, y = fetch_openml('mnist_784', version=1, return_X_y=True)\n",
    "X = X.values\n",
    "y = y.astype(int).values"
   ]
  },
  {
   "cell_type": "code",
   "execution_count": 40,
   "id": "8d73852e",
   "metadata": {},
   "outputs": [
    {
     "name": "stdout",
     "output_type": "stream",
     "text": [
      "(70000, 784)\n"
     ]
    }
   ],
   "source": [
    "print(X.shape)"
   ]
  },
  {
   "cell_type": "code",
   "execution_count": 41,
   "id": "660c212d",
   "metadata": {},
   "outputs": [],
   "source": [
    "X = ((X / 255.) - .5) * 2"
   ]
  },
  {
   "cell_type": "code",
   "execution_count": 42,
   "id": "0902ccdb",
   "metadata": {},
   "outputs": [
    {
     "data": {
      "image/png": "[encoded data removed]",
      "text/plain": [
       "<Figure size 640x480 with 10 Axes>"
      ]
     },
     "metadata": {},
     "output_type": "display_data"
    }
   ],
   "source": [
    "fig, ax = plt.subplots(nrows=2, ncols=5,\n",
    "\n",
    "                        sharex=True, sharey=True)\n",
    "ax = ax.flatten()\n",
    "for i in range(10):\n",
    "\n",
    "     img = X[y == i][0].reshape(28, 28)\n",
    "\n",
    "     ax[i].imshow(img, cmap='Greys')\n",
    "ax[0].set_xticks([])\n",
    "ax[0].set_yticks([])\n",
    "plt.tight_layout()\n",
    "plt.show()"
   ]
  },
  {
   "cell_type": "code",
   "execution_count": 43,
   "id": "f9b92e7b",
   "metadata": {},
   "outputs": [
    {
     "name": "stdout",
     "output_type": "stream",
     "text": [
      "(70000,)\n"
     ]
    }
   ],
   "source": [
    "print(y.shape)"
   ]
  },
  {
   "cell_type": "code",
   "execution_count": 44,
   "id": "d36df2ef",
   "metadata": {},
   "outputs": [],
   "source": [
    "X_temp, X_test, y_temp, y_test = train_test_split(X, y, test_size=10000, random_state=42, stratify=y)\n",
    "X_train, X_valid, y_train, y_valid = train_test_split(X_temp, y_temp, test_size=5000,random_state=123, stratify=y_temp )"
   ]
  },
  {
   "cell_type": "code",
   "execution_count": 60,
   "id": "05c7b80e",
   "metadata": {},
   "outputs": [],
   "source": [
    "def sigmoid(x):\n",
    "    return 1. / (1. + np.exp(-x))\n",
    "\n",
    "\n",
    "def int_to_onehot(y, num_labels):\n",
    "    ary = np.zeros((y.shape[0], num_labels), dtype=float)\n",
    "    for i, val in enumerate(y):\n",
    "        ary[i, val] = 1.0\n",
    "    return ary"
   ]
  },
  {
   "cell_type": "code",
   "execution_count": 61,
   "id": "f5e80da8",
   "metadata": {},
   "outputs": [],
   "source": [
    "class Multilayer_Perceptron:\n",
    "    def __init__(self, num_features, num_hidden, num_classes, random_state=42):\n",
    "\n",
    "        super().__init__()\n",
    "\n",
    "        self.num_classes = num_classes\n",
    "\n",
    "        rng = np.random.RandomState(random_state) # Create a random number generator with a fixed seed for reproducibility\n",
    "\n",
    "        # Initialize hidden layer weights\n",
    "        self.weight_h = rng.normal(\n",
    "            loc=0.0, scale=0.1, size=(num_hidden, num_features))\n",
    "        # Initialized from a normal distribution (mean=0.0, std=0.1)\n",
    "        \n",
    "        self.bias_h = np.zeros(num_hidden)\n",
    "        # Bias vector for hidden layer neurons, initialized to 0\n",
    "\n",
    "        # Initialize output layer weights\n",
    "\n",
    "        self.weight_out = rng.normal(\n",
    "            loc=0.0, scale=0.1, size=(num_classes, num_hidden))\n",
    "        # weight_out shape: (num_classes, num_hidden)\n",
    "        # Each output neuron has a weight for each hidden neuron\n",
    "        \n",
    "        self.bias_out = np.zeros(num_classes)\n",
    "        # Bias vector for output layer neurons, initialized to 0\n",
    "        # Shape: (num_classes,)\n",
    "\n",
    "    def forward(self, x):\n",
    "\n",
    "        # Hidden layer\n",
    "\n",
    "        y_hat = np.dot(x, self.weight_h.T) + self.bias_h\n",
    "        a_h = sigmoid(y_hat)\n",
    "\n",
    "         # Output layer\n",
    "\n",
    "        y_out = np.dot(a_h, self.weight_out.T) + self.bias_out\n",
    "        a_out = sigmoid(y_out)\n",
    "\n",
    "        return a_h, a_out\n",
    "    \n",
    "    def backward(self, x, a_h, a_out,y):\n",
    "\n",
    "        #########################\n",
    "        ### Output layer weights\n",
    "        #########################\n",
    "\n",
    "        y_onehot = int_to_onehot(y)\n",
    "\n",
    "        #Part 1: dLoss/dOutWeights\n",
    "\n",
    "        # input/output dim: [n_examples, n_classes]\n",
    "        d_loss_d_a_out = 2. *(a_out - y_onehot) / y.shape[0]\n",
    "\n",
    "        d_a_out_d_z_out = a_out * (1. - a_out)\n",
    "\n",
    "        delta_out = d_loss_d_a_out*d_a_out_d_z_out\n",
    "\n",
    "        d_z_out__dw_out = a_h\n",
    "\n",
    "        d_loss__dw_out = np.dot(delta_out.T, d_z_out__dw_out)\n",
    "\n",
    "        d_loss__db_out = np.sum(delta_out, axis=0)\n",
    "\n",
    "        # Part 2: dLoss/dHiddenWeights\n",
    "\n",
    "        # [n_classes, n_hidden]\n",
    "\n",
    "        d_z_out__a_h = self.weight_out\n",
    "\n",
    "        d_loss__a_h = np.dot(delta_out, d_z_out__a_h)\n",
    "\n",
    "        d_a_h__d_z_h = a_h * (1 - a_h)\n",
    "\n",
    "        d_z_h__d_w_h = x\n",
    "\n",
    "        d_loss__d_w_h = np.dot((d_loss__a_h * d_a_h__d_z_h).T, d_z_h__d_w_h)\n",
    "\n",
    "        d_loss__d_b_h = np.sum((d_loss__a_h * d_a_h__d_z_h), axis=0)\n",
    "\n",
    "        return (d_loss__dw_out, d_loss__db_out,\n",
    "        d_loss__d_w_h, d_loss__d_b_h)"
   ]
  },
  {
   "cell_type": "code",
   "execution_count": 62,
   "id": "ac9e4463",
   "metadata": {},
   "outputs": [],
   "source": [
    "model = Multilayer_Perceptron(num_features=28*28,\n",
    "                              num_hidden=50,\n",
    "                              num_classes=10)"
   ]
  },
  {
   "cell_type": "code",
   "execution_count": 63,
   "id": "eb910dce",
   "metadata": {},
   "outputs": [],
   "source": [
    "num_epochs = 50\n",
    "minibatch_sizes = 100\n",
    "\n",
    "def minibatch_gen(X, y, minibatch_size):\n",
    "\n",
    "    indices = np.arange(X.shape[0])\n",
    "\n",
    "    np.random.shuffle(indices)\n",
    "    \n",
    "    for start_idx in range(0, indices.shape[0] - minibatch_size + 1, minibatch_size):\n",
    "        batch_idx = indices[start_idx:start_idx + minibatch_size]\n",
    "\n",
    "        yield X[batch_idx], y[batch_idx]"
   ]
  },
  {
   "cell_type": "code",
   "execution_count": 49,
   "id": "26b7307d",
   "metadata": {},
   "outputs": [
    {
     "name": "stdout",
     "output_type": "stream",
     "text": [
      "(100, 784)\n",
      "(100,)\n"
     ]
    }
   ],
   "source": [
    "for i in range(num_epochs):\n",
    "\n",
    "    batch_gen = minibatch_gen(X, y, minibatch_sizes)\n",
    "    for X_train_mini, y_train_mini in batch_gen:\n",
    "        break\n",
    "    break\n",
    "\n",
    "\n",
    "print(X_train_mini.shape)\n",
    "print(y_train_mini.shape)"
   ]
  },
  {
   "cell_type": "code",
   "execution_count": 50,
   "id": "3119096b",
   "metadata": {},
   "outputs": [],
   "source": [
    "def mse_loss(targets, probas, num_labels=10):\n",
    "    onehot_targets = int_to_onehot(targets, num_labels=num_labels)\n",
    "    return np.mean((onehot_targets - probas)**2)"
   ]
  },
  {
   "cell_type": "code",
   "execution_count": 56,
   "id": "fb938e3d",
   "metadata": {},
   "outputs": [],
   "source": [
    "def accuracy1(targets, predicted_labels):\n",
    "    return np.mean(predicted_labels == targets)"
   ]
  },
  {
   "cell_type": "code",
   "execution_count": 52,
   "id": "b45a830e",
   "metadata": {},
   "outputs": [],
   "source": [
    "_, probas = model.forward(X_valid)"
   ]
  },
  {
   "cell_type": "code",
   "execution_count": 53,
   "id": "33b5e4d6",
   "metadata": {},
   "outputs": [
    {
     "name": "stdout",
     "output_type": "stream",
     "text": [
      "Initial validation MSE: 0.3\n"
     ]
    }
   ],
   "source": [
    "mse = mse_loss(y_valid, probas)\n",
    "print(f'Initial validation MSE: {mse:.1f}')"
   ]
  },
  {
   "cell_type": "code",
   "execution_count": 57,
   "id": "fed8a21a",
   "metadata": {},
   "outputs": [
    {
     "name": "stdout",
     "output_type": "stream",
     "text": [
      "Initial validation accuracy: 9.8%\n"
     ]
    }
   ],
   "source": [
    "predicted_labels = np.argmax(probas, axis=1)\n",
    "acc = accuracy1(y_valid, predicted_labels)\n",
    "print(f'Initial validation accuracy: {acc*100:.1f}%')"
   ]
  },
  {
   "cell_type": "code",
   "execution_count": 58,
   "id": "0e677b92",
   "metadata": {},
   "outputs": [],
   "source": [
    "def train(model, X_train, y_train, X_valid, y_valid,\n",
    "          num_epochs=50, minibatch_size=100, learning_rate=0.1,\n",
    "          verbose=True):\n",
    "     train_mse_history = []\n",
    "     train_acc_history = []\n",
    "     valid_acc_history = []\n",
    "\n",
    "     for epoch in range(num_epochs):\n",
    "        # Minibatch loop\n",
    "        for X_batch, y_batch in minibatch_gen(X_train, y_train, minibatch_size):\n",
    "            # Forward pass\n",
    "            a_h, probas = model.forward(X_batch)\n",
    "\n",
    "            # Backward pass\n",
    "            d_w_out, d_b_out, d_w_h, d_b_h = model.backward(X_batch, a_h, probas, y_batch)\n",
    "\n",
    "            # Update weights\n",
    "            model.weight_h   -= learning_rate * d_w_h\n",
    "            model.bias_h     -= learning_rate * d_b_h\n",
    "            model.weight_out -= learning_rate * d_w_out\n",
    "            model.bias_out   -= learning_rate * d_b_out\n",
    "\n",
    "        # ---- Metrics evaluation at end of epoch ----\n",
    "        # Training metrics\n",
    "        _, train_probas = model.forward(X_train)\n",
    "        y_train_pred = np.argmax(train_probas, axis=1)\n",
    "        train_acc = accuracy_score(y_train, y_train_pred)\n",
    "        train_mse = mean_squared_error(int_to_onehot(y_train, num_labels=model.num_classes),\n",
    "                                       train_probas)\n",
    "\n",
    "        # Validation metrics\n",
    "        _, val_probas = model.forward(X_valid)\n",
    "        y_val_pred = np.argmax(val_probas, axis=1)\n",
    "        val_acc = accuracy_score(y_valid, y_val_pred)\n",
    "\n",
    "        # Store metrics\n",
    "        train_mse_history.append(train_mse)\n",
    "        train_acc_history.append(train_acc*100)\n",
    "        valid_acc_history.append(val_acc*100)\n",
    "\n",
    "        # Print epoch summary\n",
    "        if verbose:\n",
    "            print(f\"Epoch {epoch+1}/{num_epochs} | \"\n",
    "                  f\"Train MSE: {train_mse:.4f} | \"\n",
    "                  f\"Train Acc: {train_acc*100:.2f}% | \"\n",
    "                  f\"Valid Acc: {val_acc*100:.2f}%\")\n",
    "     return train_mse_history, train_acc_history, valid_acc_history"
   ]
  },
  {
   "cell_type": "code",
   "execution_count": 59,
   "id": "c1809756",
   "metadata": {},
   "outputs": [
    {
     "ename": "TypeError",
     "evalue": "int_to_onehot() missing 1 required positional argument: 'num_labels'",
     "output_type": "error",
     "traceback": [
      "\u001b[1;31m---------------------------------------------------------------------------\u001b[0m",
      "\u001b[1;31mTypeError\u001b[0m                                 Traceback (most recent call last)",
      "Cell \u001b[1;32mIn[59], line 2\u001b[0m\n\u001b[0;32m      1\u001b[0m np\u001b[38;5;241m.\u001b[39mrandom\u001b[38;5;241m.\u001b[39mseed(\u001b[38;5;241m123\u001b[39m)\n\u001b[1;32m----> 2\u001b[0m epoch_loss, epoch_train_acc, epoch_valid_acc \u001b[38;5;241m=\u001b[39m \u001b[43mtrain\u001b[49m\u001b[43m(\u001b[49m\n\u001b[0;32m      3\u001b[0m \u001b[43m    \u001b[49m\u001b[43mmodel\u001b[49m\u001b[43m,\u001b[49m\u001b[43m \u001b[49m\u001b[43mX_train\u001b[49m\u001b[43m,\u001b[49m\u001b[43m \u001b[49m\u001b[43my_train\u001b[49m\u001b[43m,\u001b[49m\u001b[43m \u001b[49m\u001b[43mX_valid\u001b[49m\u001b[43m,\u001b[49m\u001b[43m \u001b[49m\u001b[43my_valid\u001b[49m\u001b[43m,\u001b[49m\n\u001b[0;32m      4\u001b[0m \u001b[43m    \u001b[49m\u001b[43mnum_epochs\u001b[49m\u001b[38;5;241;43m=\u001b[39;49m\u001b[38;5;241;43m50\u001b[39;49m\u001b[43m,\u001b[49m\u001b[43m \u001b[49m\u001b[43mlearning_rate\u001b[49m\u001b[38;5;241;43m=\u001b[39;49m\u001b[38;5;241;43m0.1\u001b[39;49m\u001b[43m)\u001b[49m\n",
      "Cell \u001b[1;32mIn[58], line 15\u001b[0m, in \u001b[0;36mtrain\u001b[1;34m(model, X_train, y_train, X_valid, y_valid, num_epochs, minibatch_size, learning_rate, verbose)\u001b[0m\n\u001b[0;32m     12\u001b[0m a_h, probas \u001b[38;5;241m=\u001b[39m model\u001b[38;5;241m.\u001b[39mforward(X_batch)\n\u001b[0;32m     14\u001b[0m \u001b[38;5;66;03m# Backward pass\u001b[39;00m\n\u001b[1;32m---> 15\u001b[0m d_w_out, d_b_out, d_w_h, d_b_h \u001b[38;5;241m=\u001b[39m \u001b[43mmodel\u001b[49m\u001b[38;5;241;43m.\u001b[39;49m\u001b[43mbackward\u001b[49m\u001b[43m(\u001b[49m\u001b[43mX_batch\u001b[49m\u001b[43m,\u001b[49m\u001b[43m \u001b[49m\u001b[43ma_h\u001b[49m\u001b[43m,\u001b[49m\u001b[43m \u001b[49m\u001b[43mprobas\u001b[49m\u001b[43m,\u001b[49m\u001b[43m \u001b[49m\u001b[43my_batch\u001b[49m\u001b[43m)\u001b[49m\n\u001b[0;32m     17\u001b[0m \u001b[38;5;66;03m# Update weights\u001b[39;00m\n\u001b[0;32m     18\u001b[0m model\u001b[38;5;241m.\u001b[39mweight_h   \u001b[38;5;241m-\u001b[39m\u001b[38;5;241m=\u001b[39m learning_rate \u001b[38;5;241m*\u001b[39m d_w_h\n",
      "Cell \u001b[1;32mIn[46], line 49\u001b[0m, in \u001b[0;36mMultilayer_Perceptron.backward\u001b[1;34m(self, x, a_h, a_out, y)\u001b[0m\n\u001b[0;32m     43\u001b[0m \u001b[38;5;28;01mdef\u001b[39;00m\u001b[38;5;250m \u001b[39m\u001b[38;5;21mbackward\u001b[39m(\u001b[38;5;28mself\u001b[39m, x, a_h, a_out,y):\n\u001b[0;32m     44\u001b[0m \n\u001b[0;32m     45\u001b[0m     \u001b[38;5;66;03m#########################\u001b[39;00m\n\u001b[0;32m     46\u001b[0m     \u001b[38;5;66;03m### Output layer weights\u001b[39;00m\n\u001b[0;32m     47\u001b[0m     \u001b[38;5;66;03m#########################\u001b[39;00m\n\u001b[1;32m---> 49\u001b[0m     y_onehot \u001b[38;5;241m=\u001b[39m \u001b[43mint_to_onehot\u001b[49m\u001b[43m(\u001b[49m\u001b[43my\u001b[49m\u001b[43m)\u001b[49m\n\u001b[0;32m     51\u001b[0m     \u001b[38;5;66;03m#Part 1: dLoss/dOutWeights\u001b[39;00m\n\u001b[0;32m     52\u001b[0m \n\u001b[0;32m     53\u001b[0m     \u001b[38;5;66;03m# input/output dim: [n_examples, n_classes]\u001b[39;00m\n\u001b[0;32m     54\u001b[0m     d_loss_d_a_out \u001b[38;5;241m=\u001b[39m \u001b[38;5;241m2.\u001b[39m \u001b[38;5;241m*\u001b[39m(a_out \u001b[38;5;241m-\u001b[39m y_onehot) \u001b[38;5;241m/\u001b[39m y\u001b[38;5;241m.\u001b[39mshape[\u001b[38;5;241m0\u001b[39m]\n",
      "\u001b[1;31mTypeError\u001b[0m: int_to_onehot() missing 1 required positional argument: 'num_labels'"
     ]
    }
   ],
   "source": [
    "np.random.seed(123)\n",
    "epoch_loss, epoch_train_acc, epoch_valid_acc = train(\n",
    "    model, X_train, y_train, X_valid, y_valid,\n",
    "    num_epochs=50, learning_rate=0.1)"
   ]
  }
 ],
 "metadata": {
  "kernelspec": {
   "display_name": "Python 3",
   "language": "python",
   "name": "python3"
  },
  "language_info": {
   "codemirror_mode": {
    "name": "ipython",
    "version": 3
   },
   "file_extension": ".py",
   "mimetype": "text/x-python",
   "name": "python",
   "nbconvert_exporter": "python",
   "pygments_lexer": "ipython3",
   "version": "3.10.9"
  }
 },
 "nbformat": 4,
 "nbformat_minor": 5
}
